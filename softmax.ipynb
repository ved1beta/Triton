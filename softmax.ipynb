{
  "nbformat": 4,
  "nbformat_minor": 0,
  "metadata": {
    "colab": {
      "provenance": [],
      "gpuType": "T4",
      "authorship_tag": "ABX9TyPmgTahA/CQHpEohOP/ldqW",
      "include_colab_link": true
    },
    "kernelspec": {
      "name": "python3",
      "display_name": "Python 3"
    },
    "language_info": {
      "name": "python"
    },
    "accelerator": "GPU"
  },
  "cells": [
    {
      "cell_type": "markdown",
      "metadata": {
        "id": "view-in-github",
        "colab_type": "text"
      },
      "source": [
        "<a href=\"https://colab.research.google.com/github/ved1beta/Triton/blob/main/softmax.ipynb\" target=\"_parent\"><img src=\"https://colab.research.google.com/assets/colab-badge.svg\" alt=\"Open In Colab\"/></a>"
      ]
    },
    {
      "cell_type": "code",
      "execution_count": 3,
      "metadata": {
        "id": "3yQLgpkU1Dkg",
        "colab": {
          "base_uri": "https://localhost:8080/"
        },
        "outputId": "96139f59-f290-43b6-8298-0b4988d5a86b"
      },
      "outputs": [
        {
          "output_type": "stream",
          "name": "stdout",
          "text": [
            "Collecting triton\n",
            "  Downloading triton-3.1.0-cp310-cp310-manylinux_2_17_x86_64.manylinux2014_x86_64.whl.metadata (1.3 kB)\n",
            "Requirement already satisfied: torch in /usr/local/lib/python3.10/dist-packages (2.5.1+cu121)\n",
            "Requirement already satisfied: filelock in /usr/local/lib/python3.10/dist-packages (from triton) (3.16.1)\n",
            "Requirement already satisfied: typing-extensions>=4.8.0 in /usr/local/lib/python3.10/dist-packages (from torch) (4.12.2)\n",
            "Requirement already satisfied: networkx in /usr/local/lib/python3.10/dist-packages (from torch) (3.4.2)\n",
            "Requirement already satisfied: jinja2 in /usr/local/lib/python3.10/dist-packages (from torch) (3.1.5)\n",
            "Requirement already satisfied: fsspec in /usr/local/lib/python3.10/dist-packages (from torch) (2024.10.0)\n",
            "Requirement already satisfied: sympy==1.13.1 in /usr/local/lib/python3.10/dist-packages (from torch) (1.13.1)\n",
            "Requirement already satisfied: mpmath<1.4,>=1.1.0 in /usr/local/lib/python3.10/dist-packages (from sympy==1.13.1->torch) (1.3.0)\n",
            "Requirement already satisfied: MarkupSafe>=2.0 in /usr/local/lib/python3.10/dist-packages (from jinja2->torch) (3.0.2)\n",
            "Downloading triton-3.1.0-cp310-cp310-manylinux_2_17_x86_64.manylinux2014_x86_64.whl (209.5 MB)\n",
            "\u001b[2K   \u001b[90m━━━━━━━━━━━━━━━━━━━━━━━━━━━━━━━━━━━━━━━━\u001b[0m \u001b[32m209.5/209.5 MB\u001b[0m \u001b[31m6.5 MB/s\u001b[0m eta \u001b[36m0:00:00\u001b[0m\n",
            "\u001b[?25hInstalling collected packages: triton\n",
            "Successfully installed triton-3.1.0\n"
          ]
        }
      ],
      "source": [
        "!pip install triton torch\n",
        "import torch\n",
        "import triton\n",
        "import triton.language as tl\n",
        "def softmax(x: torch.Tensor) -> torch.Tensor:\n",
        "\n",
        "    rows, cols = x.shape\n",
        "    assert x.dim() == 2, f\"Expected 2D input, got {x.dim()}D input\"\n",
        "\n",
        "    block_size = triton.next_power_of_2(cols)\n",
        "\n",
        "    num_warps = 4  # Each warp has 32 threads\n",
        "    if block_size > 2047:\n",
        "        num_warps = 8\n",
        "    if block_size > 4095:\n",
        "        num_warps = 16\n",
        "\n",
        "    # Define grid size, each thread block (Block) processes one row of data\n",
        "    grid = (rows,) # This creates a tuple containing only rows\n",
        "\n",
        "\n",
        "    sm_out = torch.empty_like(x)\n",
        "\n",
        "    _softmax_fwd_kernel[grid](\n",
        "        sm_out,\n",
        "        sm_out.stride(0),\n",
        "        x,\n",
        "        x.stride(0),\n",
        "        cols,\n",
        "        block_size=block_size,\n",
        "        num_warps=num_warps\n",
        "    )\n",
        "\n",
        "    return sm_out\n",
        "\n",
        "\n",
        "\n",
        "\n",
        "\n"
      ]
    },
    {
      "cell_type": "code",
      "source": [
        "@triton.jit\n",
        "def _softmax_fwd_kernel(\n",
        "    output_ptr,\n",
        "    stride_output_row,\n",
        "    input_ptr,\n",
        "    stride_input_row,\n",
        "    num_cols,\n",
        "    block_size: tl.constexpr,\n",
        "):\n",
        "    # Get the ID of the current program (row index)\n",
        "    row_index = tl.program_id(0)\n",
        "\n",
        "    # Calculate the starting pointer for the current row\n",
        "    row_start_ptr = input_ptr + (row_index * stride_input_row)\n",
        "    col_offsets = tl.arange(0, block_size)\n",
        "    input_pointers = row_start_ptr + col_offsets\n",
        "\n",
        "    # Create a mask to prevent out-of-bounds access\n",
        "    row_mask = col_offsets < num_cols\n",
        "\n",
        "    # Load data from global memory to shared SRAM\n",
        "    row = tl.load(input_pointers, mask=row_mask, other=float(\"-inf\"))\n",
        "\n",
        "    # Softmax calculation\n",
        "    safe_row = row - tl.max(row, axis=0)\n",
        "    numerator = tl.exp(safe_row)\n",
        "    denominator = tl.sum(numerator, axis=0)\n",
        "    sm_out = numerator / denominator\n",
        "\n",
        "    # Write results back to global memory\n",
        "    output_row_ptr = output_ptr + (row_index * stride_output_row)\n",
        "    output_pointers = output_row_ptr + col_offsets\n",
        "    tl.store(output_pointers, sm_out, mask=row_mask)\n"
      ],
      "metadata": {
        "id": "vd1NdaG6c-oy"
      },
      "execution_count": 4,
      "outputs": []
    },
    {
      "cell_type": "code",
      "source": [
        "_softmax_fwd_kernel[grid](\n",
        "    sm_out,                # Pointer to the output tensor\n",
        "    sm_out.stride(0),      # Stride of the output tensor in the row direction\n",
        "    x,                     # Pointer to the input tensor\n",
        "    x.stride(0),           # Stride of the input tensor in the row direction\n",
        "    cols,                  # Number of columns in the input tensor\n",
        "    # Kernel configuration parameters\n",
        "    block_size=block_size,\n",
        "    num_warps=num_warps\n",
        ")"
      ],
      "metadata": {
        "id": "Kom4filXdBq8",
        "colab": {
          "base_uri": "https://localhost:8080/",
          "height": 211
        },
        "outputId": "d8e01818-19c9-4db1-e72e-87a8521ff1a2"
      },
      "execution_count": 5,
      "outputs": [
        {
          "output_type": "error",
          "ename": "NameError",
          "evalue": "name 'grid' is not defined",
          "traceback": [
            "\u001b[0;31m---------------------------------------------------------------------------\u001b[0m",
            "\u001b[0;31mNameError\u001b[0m                                 Traceback (most recent call last)",
            "\u001b[0;32m<ipython-input-5-78fb4bc3fa48>\u001b[0m in \u001b[0;36m<cell line: 1>\u001b[0;34m()\u001b[0m\n\u001b[0;32m----> 1\u001b[0;31m _softmax_fwd_kernel[grid](\n\u001b[0m\u001b[1;32m      2\u001b[0m     \u001b[0msm_out\u001b[0m\u001b[0;34m,\u001b[0m                \u001b[0;31m# Pointer to the output tensor\u001b[0m\u001b[0;34m\u001b[0m\u001b[0;34m\u001b[0m\u001b[0m\n\u001b[1;32m      3\u001b[0m     \u001b[0msm_out\u001b[0m\u001b[0;34m.\u001b[0m\u001b[0mstride\u001b[0m\u001b[0;34m(\u001b[0m\u001b[0;36m0\u001b[0m\u001b[0;34m)\u001b[0m\u001b[0;34m,\u001b[0m      \u001b[0;31m# Stride of the output tensor in the row direction\u001b[0m\u001b[0;34m\u001b[0m\u001b[0;34m\u001b[0m\u001b[0m\n\u001b[1;32m      4\u001b[0m     \u001b[0mx\u001b[0m\u001b[0;34m,\u001b[0m                     \u001b[0;31m# Pointer to the input tensor\u001b[0m\u001b[0;34m\u001b[0m\u001b[0;34m\u001b[0m\u001b[0m\n\u001b[1;32m      5\u001b[0m     \u001b[0mx\u001b[0m\u001b[0;34m.\u001b[0m\u001b[0mstride\u001b[0m\u001b[0;34m(\u001b[0m\u001b[0;36m0\u001b[0m\u001b[0;34m)\u001b[0m\u001b[0;34m,\u001b[0m           \u001b[0;31m# Stride of the input tensor in the row direction\u001b[0m\u001b[0;34m\u001b[0m\u001b[0;34m\u001b[0m\u001b[0m\n",
            "\u001b[0;31mNameError\u001b[0m: name 'grid' is not defined"
          ]
        }
      ]
    },
    {
      "cell_type": "code",
      "source": [],
      "metadata": {
        "id": "2KDJoR_jdk0Y"
      },
      "execution_count": null,
      "outputs": []
    }
  ]
}